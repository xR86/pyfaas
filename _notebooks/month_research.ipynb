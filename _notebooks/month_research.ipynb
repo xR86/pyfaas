{
 "cells": [
  {
   "cell_type": "code",
   "execution_count": 1,
   "metadata": {},
   "outputs": [],
   "source": [
    "import calendar\n",
    "import itertools\n",
    "\n",
    "from operator import add\n",
    "from operator import floordiv\n",
    "\n",
    "import numpy as np\n",
    "\n",
    "import toolz\n",
    "from toolz import flip\n",
    "from toolz import curry\n",
    "from toolz import compose\n",
    "\n",
    "\n",
    "import matplotlib\n",
    "matplotlib.use('WXAgg')\n",
    "\n",
    "import matplotlib.pyplot as plt\n",
    "plt.ion()\n",
    "\n",
    "import dataset.day"
   ]
  },
  {
   "cell_type": "code",
   "execution_count": 2,
   "metadata": {},
   "outputs": [],
   "source": [
    "add      = curry(add)\n",
    "floordiv = curry(floordiv)\n",
    "\n",
    "floordivby = compose(curry, flip)(floordiv)\n",
    "\n",
    "eager_map = compose(curry, compose)(list, map)\n",
    "\n",
    "eager_zip   = compose(list, zip)\n",
    "eager_chain = compose(list, itertools.chain)"
   ]
  },
  {
   "cell_type": "markdown",
   "metadata": {},
   "source": [
    "# Generate for an arbitrary number of days"
   ]
  },
  {
   "cell_type": "code",
   "execution_count": 3,
   "metadata": {},
   "outputs": [],
   "source": [
    "days = [dataset.day.generate_day_dataset(polling_interval = dataset.day.SUBDIVISION_MINS,\n",
    "                                         min_traffic = dataset.day.MIN_TRAFFIC_PER_MINUTE,\n",
    "                                         max_traffic = dataset.day.MAX_TRAFFIC_PER_MINUTE,\n",
    "                                         max_traffic_at_peak = dataset.day.MAX_TRAFFIC_PER_MINUTE_AT_PEAK,\n",
    "                                         peak_duration = dataset.day.PEAK_DURATION_MINS,\n",
    "                                         peak_times = dataset.day.PEAKS)\n",
    "        for i\n",
    "        in range(31)]"
   ]
  },
  {
   "cell_type": "code",
   "execution_count": 4,
   "metadata": {},
   "outputs": [],
   "source": [
    "plt.figure(1)\n",
    "\n",
    "for day_ind, day in enumerate(days):\n",
    "    plt.subplot(5, 7, day_ind + 1)\n",
    "    plt.plot(day, color = 'b', linewidth = 1)\n",
    "    plt.title(f'Day {day_ind + 1}')\n",
    "    plt.xlabel('Time of day')\n",
    "    plt.ylabel(f'Requests per {dataset.day.SUBDIVISION_MINS} minutes')\n",
    "    plt.ylim([0, dataset.day.MAX_TRAFFIC_PER_MINUTE_AT_PEAK * dataset.day.SUBDIVISION_MINS * 1.25])\n",
    "    plt.xticks(*dataset.day.time_steps, rotation = 60)\n",
    "    plt.grid(True, linestyle = '--')\n",
    "\n",
    "plt.show()"
   ]
  },
  {
   "cell_type": "markdown",
   "metadata": {},
   "source": [
    "# Generate for one week"
   ]
  },
  {
   "cell_type": "code",
   "execution_count": 12,
   "metadata": {},
   "outputs": [
    {
     "name": "stdout",
     "output_type": "stream",
     "text": [
      "[0, 48, 96, 144, 192, 240, 288, 336, 384, 432, 480, 528, 576, 624, 672, 720, 768, 816, 864, 912, 960, 1008, 1056, 1104, 1152, 1200, 1248, 1296, 1344, 1392, 1440, 1488, 1536, 1584, 1632, 1680, 1728, 1776, 1824, 1872, 1920, 1968]\n",
      "['Day 1 - 00:00', '04:00', '08:00', '12:00', '16:00', '20:00', 'Day 2 - 00:00', '04:00', '08:00', '12:00', '16:00', '20:00', 'Day 3 - 00:00', '04:00', '08:00', '12:00', '16:00', '20:00', 'Day 4 - 00:00', '04:00', '08:00', '12:00', '16:00', '20:00', 'Day 5 - 00:00', '04:00', '08:00', '12:00', '16:00', '20:00', 'Day 6 - 00:00', '04:00', '08:00', '12:00', '16:00', '20:00', 'Day 7 - 00:00', '04:00', '08:00', '12:00', '16:00', '20:00']\n"
     ]
    }
   ],
   "source": [
    "week = eager_chain(*[dataset.day.generate_day_dataset(polling_interval = dataset.day.SUBDIVISION_MINS,\n",
    "                                                      min_traffic = dataset.day.MIN_TRAFFIC_PER_MINUTE,\n",
    "                                                      max_traffic = dataset.day.MAX_TRAFFIC_PER_MINUTE,\n",
    "                                                      max_traffic_at_peak = dataset.day.MAX_TRAFFIC_PER_MINUTE_AT_PEAK,\n",
    "                                                      peak_duration = dataset.day.PEAK_DURATION_MINS,\n",
    "                                                      peak_times = dataset.day.PEAKS)\n",
    "                     for i\n",
    "                     in range(7)])\n",
    "\n",
    "time_steps = eager_zip(*[(t, timestamp) \n",
    "                        for t, timestamp \n",
    "                        in zip(*dataset.day.time_steps) \n",
    "                        if int(timestamp.split(':')[0]) % 4 == 0])\n",
    "\n",
    "time_steps = eager_chain(*[eager_map(add(dataset.day.cycle_mins * day // dataset.day.SUBDIVISION_MINS), time_steps.copy()[0]) \n",
    "                           for day \n",
    "                           in range(7)])\n",
    "\n",
    "time_stamps = eager_chain(*[[f'Day {i+1} - 00:00'] + dataset.day.time_steps[1][::4][1:] \n",
    "                             for i \n",
    "                             in range(7)])\n",
    "\n",
    "\n",
    "print(time_steps)\n",
    "print(time_stamps)\n",
    "\n",
    "plt.plot(week)\n",
    "plt.title(f'Week')\n",
    "plt.xlabel('Time')\n",
    "plt.ylabel(f'Requests per {dataset.day.SUBDIVISION_MINS} minutes')\n",
    "plt.ylim([0, dataset.day.MAX_TRAFFIC_PER_MINUTE_AT_PEAK * dataset.day.SUBDIVISION_MINS * 1.25])\n",
    "plt.xticks(time_steps, time_stamps, rotation = 90)\n",
    "plt.grid(True, linestyle = '--')\n"
   ]
  },
  {
   "cell_type": "markdown",
   "metadata": {},
   "source": [
    "# Generate for one month"
   ]
  },
  {
   "cell_type": "code",
   "execution_count": 5,
   "metadata": {},
   "outputs": [
    {
     "name": "stderr",
     "output_type": "stream",
     "text": [
      "e:\\tools\\languages\\python36\\lib\\site-packages\\matplotlib\\cbook\\deprecation.py:107: MatplotlibDeprecationWarning: Adding an axes using the same arguments as a previous axes currently reuses the earlier instance.  In a future version, a new instance will always be created and returned.  Meanwhile, this warning can be suppressed, and the future behavior ensured, by passing a unique label to each axes instance.\n",
      "  warnings.warn(message, mplDeprecation, stacklevel=1)\n"
     ]
    }
   ],
   "source": [
    "year  = 2018\n",
    "month = 2\n",
    "weekday_names = ['Mon', 'Tue', 'Wed', 'Thu', 'Fri', 'Sat', 'Sun']\n",
    "month_names = ['Jan', 'Feb', 'Mar', 'Apr', 'May', 'Jun', 'Jul', 'Aug', 'Sep', 'Oct', 'Nov', 'Dec']\n",
    "\n",
    "month_start_weekday, month_length = calendar.monthrange(year, month)\n",
    "\n",
    "month_day_traffic = [dataset.day.generate_day_dataset(polling_interval = dataset.day.SUBDIVISION_MINS,\n",
    "                                                      min_traffic = dataset.day.MIN_TRAFFIC_PER_MINUTE,\n",
    "                                                      max_traffic = dataset.day.MAX_TRAFFIC_PER_MINUTE,\n",
    "                                                      max_traffic_at_peak = dataset.day.MAX_TRAFFIC_PER_MINUTE_AT_PEAK,\n",
    "                                                      peak_duration = dataset.day.PEAK_DURATION_MINS,\n",
    "                                                      peak_times = dataset.day.PEAKS)\n",
    "                     for i\n",
    "                     in range(month_length)]\n",
    "\n",
    "time_steps  = dataset.day.time_steps[0][::12]\n",
    "time_stamps = dataset.day.time_steps[1][::12]\n",
    "\n",
    "plt.figure(1)\n",
    "plt.subplots_adjust(wspace = 0.35, hspace = 0.35)\n",
    "\n",
    "plt.suptitle(f'{month_names[month - 1]}, {year}', fontsize = 20, fontweight='bold')\n",
    "\n",
    "for i, weekday_name in enumerate(weekday_names):\n",
    "    plt.subplot(5, 7, i + 1)\n",
    "    plt.title(weekday_name, fontsize = 15, fontweight='bold')\n",
    "    if i < month_start_weekday:\n",
    "        plt.yticks([], [])\n",
    "        plt.xticks([], [])\n",
    "\n",
    "for day_ind, day in enumerate(month_day_traffic):\n",
    "    plt.subplot(5, 7, month_start_weekday + day_ind + 1)\n",
    "    plt.plot(day, color = 'b', linewidth = 0.5)\n",
    "    plt.ylim([0, dataset.day.MAX_TRAFFIC_PER_MINUTE_AT_PEAK * dataset.day.SUBDIVISION_MINS * 1.25])\n",
    "    plt.xticks(time_steps, time_stamps, rotation = 0)\n",
    "    plt.grid(True, linestyle = '--')\n",
    "    \n",
    "for i in range(len(month_day_traffic) + month_start_weekday, 5*7):\n",
    "    plt.subplot(5, 7, i + 1)\n",
    "    plt.yticks([], [])\n",
    "    plt.xticks([], [])\n",
    "\n",
    "plt.show()"
   ]
  },
  {
   "cell_type": "code",
   "execution_count": null,
   "metadata": {},
   "outputs": [],
   "source": []
  },
  {
   "cell_type": "code",
   "execution_count": null,
   "metadata": {},
   "outputs": [],
   "source": []
  }
 ],
 "metadata": {
  "kernelspec": {
   "display_name": "Python 3",
   "language": "python",
   "name": "python3"
  },
  "language_info": {
   "codemirror_mode": {
    "name": "ipython",
    "version": 3
   },
   "file_extension": ".py",
   "mimetype": "text/x-python",
   "name": "python",
   "nbconvert_exporter": "python",
   "pygments_lexer": "ipython3",
   "version": "3.6.5"
  }
 },
 "nbformat": 4,
 "nbformat_minor": 2
}
