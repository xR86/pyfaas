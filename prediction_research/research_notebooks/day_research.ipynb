{
 "cells": [
  {
   "cell_type": "code",
   "execution_count": 1,
   "metadata": {
    "colab": {},
    "colab_type": "code",
    "id": "urNM3TRaO6mF"
   },
   "outputs": [],
   "source": [
    "import math\n",
    "import random\n",
    "\n",
    "import numpy as np\n",
    "\n",
    "import matplotlib\n",
    "matplotlib.use('TkAgg')\n",
    "\n",
    "import matplotlib.pyplot as plt\n",
    "plt.ion()"
   ]
  },
  {
   "cell_type": "code",
   "execution_count": 2,
   "metadata": {
    "colab": {},
    "colab_type": "code",
    "id": "0nSqQwYdPKb2"
   },
   "outputs": [],
   "source": [
    "##### Constants #####\n",
    "\n",
    "CYCLE_HRS = 24\n",
    "\n",
    "SUBDIVISION_MINS = 5\n",
    "\n",
    "PEAKS = ['8:30',\n",
    "         '19:30']\n",
    "\n",
    "PEAK_DURATION_MINS = 120\n",
    "\n",
    "MAX_TRAFFIC_PER_SUBDIVISION = 300\n",
    "\n",
    "#####################"
   ]
  },
  {
   "cell_type": "code",
   "execution_count": 3,
   "metadata": {
    "colab": {},
    "colab_type": "code",
    "id": "BWN2xjQtjlyo"
   },
   "outputs": [],
   "source": [
    "def linear_mapping(val, lo1, hi1, lo2 = 0.0, hi2 = 1.0):\n",
    "    \"\"\"\n",
    "    Linear mapping of one interval [a,b] onto another interval [c,d]. \n",
    "    If x = val in in [a,b] then what is the value of x in [c,d].\n",
    "    \"\"\"\n",
    "    return (val - lo1) * (hi2 - lo2) / (hi1 - lo1) + lo2\n",
    "\n",
    "\n",
    "def gaussian(x, height = MAX_TRAFFIC_PER_SUBDIVISION, peak = 100, amplitude = PEAK_DURATION_MINS // 4):\n",
    "    \"\"\"\n",
    "    The y value of a gaussian curve of set height, peak and amplitude.\n",
    "    \"\"\"\n",
    "    return height * np.e ** (-1 * (((x - peak) ** 2) / (2 * amplitude ** 2)))"
   ]
  },
  {
   "cell_type": "code",
   "execution_count": 4,
   "metadata": {
    "colab": {
     "base_uri": "https://localhost:8080/",
     "height": 34
    },
    "colab_type": "code",
    "executionInfo": {
     "elapsed": 680,
     "status": "ok",
     "timestamp": 1539067219636,
     "user": {
      "displayName": "Seckar Is Here",
      "photoUrl": "",
      "userId": "16083428947768703035"
     },
     "user_tz": -180
    },
    "id": "ZwEJLojtPXTG",
    "outputId": "449c9ad5-f5c8-4de6-c11b-54db039c9da2"
   },
   "outputs": [
    {
     "data": {
      "text/plain": [
       "1440"
      ]
     },
     "execution_count": 4,
     "metadata": {},
     "output_type": "execute_result"
    }
   ],
   "source": [
    "cycle_mins = CYCLE_HRS * 60\n",
    "\n",
    "cycle_mins"
   ]
  },
  {
   "cell_type": "code",
   "execution_count": 5,
   "metadata": {
    "colab": {
     "base_uri": "https://localhost:8080/",
     "height": 34
    },
    "colab_type": "code",
    "executionInfo": {
     "elapsed": 839,
     "status": "ok",
     "timestamp": 1539067220593,
     "user": {
      "displayName": "Seckar Is Here",
      "photoUrl": "",
      "userId": "16083428947768703035"
     },
     "user_tz": -180
    },
    "id": "eHN660HaVQwo",
    "outputId": "9bccdebd-c172-4de0-914d-eb832c17ff1b"
   },
   "outputs": [
    {
     "data": {
      "text/plain": [
       "[500, 505, 510, 515, 520, 525, 530, 535, 540, 545, 550, 555, 560, 565, 570]"
      ]
     },
     "execution_count": 5,
     "metadata": {},
     "output_type": "execute_result"
    }
   ],
   "source": [
    "cycle_time_steps = list(range(0, cycle_mins, SUBDIVISION_MINS))\n",
    "\n",
    "cycle_time_steps[100:115]"
   ]
  },
  {
   "cell_type": "code",
   "execution_count": 6,
   "metadata": {
    "colab": {
     "base_uri": "https://localhost:8080/",
     "height": 34
    },
    "colab_type": "code",
    "executionInfo": {
     "elapsed": 650,
     "status": "ok",
     "timestamp": 1539067221333,
     "user": {
      "displayName": "Seckar Is Here",
      "photoUrl": "",
      "userId": "16083428947768703035"
     },
     "user_tz": -180
    },
    "id": "YyfQFRwPPa-_",
    "outputId": "902f2315-32d4-43a4-d0fc-fa479c0340c8"
   },
   "outputs": [
    {
     "data": {
      "text/plain": [
       "[510, 1170]"
      ]
     },
     "execution_count": 6,
     "metadata": {},
     "output_type": "execute_result"
    }
   ],
   "source": [
    "peaks = [peak.split(':') for peak in PEAKS]\n",
    "peaks = [int(peak[0]) * 60 + int(peak[1]) for peak in peaks]\n",
    "\n",
    "peaks"
   ]
  },
  {
   "cell_type": "code",
   "execution_count": 7,
   "metadata": {
    "colab": {
     "base_uri": "https://localhost:8080/",
     "height": 34
    },
    "colab_type": "code",
    "executionInfo": {
     "elapsed": 649,
     "status": "ok",
     "timestamp": 1539067222095,
     "user": {
      "displayName": "Seckar Is Here",
      "photoUrl": "",
      "userId": "16083428947768703035"
     },
     "user_tz": -180
    },
    "id": "W5S2FJjqPm-P",
    "outputId": "9673007d-2ee2-4292-cc99-85ce1edf316d"
   },
   "outputs": [
    {
     "data": {
      "text/plain": [
       "[46, 24, 49, 24, 5, 40, 9, 8, 26, 8, 12, 49, 7, 18, 16]"
      ]
     },
     "execution_count": 7,
     "metadata": {},
     "output_type": "execute_result"
    }
   ],
   "source": [
    "load = [random.randint(1 * SUBDIVISION_MINS, 10 * SUBDIVISION_MINS) for minute in cycle_time_steps]\n",
    "\n",
    "load[:15]"
   ]
  },
  {
   "cell_type": "code",
   "execution_count": 8,
   "metadata": {
    "colab": {},
    "colab_type": "code",
    "id": "z7bzY-fIYzeU"
   },
   "outputs": [],
   "source": [
    "load_with_peaks = [random.randint(1 * SUBDIVISION_MINS, 10 * SUBDIVISION_MINS) +\n",
    "                   gaussian(minute, \n",
    "                            peak = min(peaks, \n",
    "                                       key = lambda peak: abs(peak - minute)))\n",
    "                   for minute\n",
    "                   in cycle_time_steps]"
   ]
  },
  {
   "cell_type": "code",
   "execution_count": 9,
   "metadata": {
    "colab": {
     "base_uri": "https://localhost:8080/",
     "height": 442
    },
    "colab_type": "code",
    "executionInfo": {
     "elapsed": 604,
     "status": "ok",
     "timestamp": 1539067228062,
     "user": {
      "displayName": "Seckar Is Here",
      "photoUrl": "",
      "userId": "16083428947768703035"
     },
     "user_tz": -180
    },
    "id": "IIXirqUNRPlq",
    "outputId": "877528b9-f542-4c62-b5f9-dc418dc05865"
   },
   "outputs": [
    {
     "data": {
      "text/plain": [
       "[('00:00', 0),\n",
       " ('01:00', 12),\n",
       " ('02:00', 24),\n",
       " ('03:00', 36),\n",
       " ('04:00', 48),\n",
       " ('05:00', 60),\n",
       " ('06:00', 72),\n",
       " ('07:00', 84),\n",
       " ('08:00', 96),\n",
       " ('09:00', 108),\n",
       " ('10:00', 120),\n",
       " ('11:00', 132),\n",
       " ('12:00', 144),\n",
       " ('13:00', 156),\n",
       " ('14:00', 168),\n",
       " ('15:00', 180),\n",
       " ('16:00', 192),\n",
       " ('17:00', 204),\n",
       " ('18:00', 216),\n",
       " ('19:00', 228),\n",
       " ('20:00', 240),\n",
       " ('21:00', 252),\n",
       " ('22:00', 264),\n",
       " ('23:00', 276),\n",
       " ('00:00', 288)]"
      ]
     },
     "execution_count": 9,
     "metadata": {},
     "output_type": "execute_result"
    }
   ],
   "source": [
    "time_steps = list(zip(*[(mins // SUBDIVISION_MINS, f'{mins // 60:02d}:{mins % 60:02d}') \n",
    "                        for mins \n",
    "                        in range(0, cycle_mins, cycle_mins // 24)]))\n",
    "\n",
    "time_steps = list(map(list, time_steps))\n",
    "\n",
    "time_steps[0] += [time_steps[0][-1] + time_steps[0][1]]\n",
    "time_steps[1] += ['00:00']\n",
    "\n",
    "list(zip(*time_steps[::-1]))"
   ]
  },
  {
   "cell_type": "code",
   "execution_count": 11,
   "metadata": {
    "colab": {
     "base_uri": "https://localhost:8080/",
     "height": 347
    },
    "colab_type": "code",
    "executionInfo": {
     "elapsed": 1090,
     "status": "ok",
     "timestamp": 1539067229225,
     "user": {
      "displayName": "Seckar Is Here",
      "photoUrl": "",
      "userId": "16083428947768703035"
     },
     "user_tz": -180
    },
    "id": "gyGfTunpQWYq",
    "outputId": "f1a065bf-19f4-4438-dc97-57c31a2eda80"
   },
   "outputs": [],
   "source": [
    "plt.plot(load,            color = 'g', linewidth = 1)\n",
    "plt.plot(load_with_peaks, color = 'b', linewidth = 1)\n",
    "\n",
    "plt.legend([\n",
    "    f'Requests per {SUBDIVISION_MINS} minutes (without peaks)',\n",
    "    f'Requests per {SUBDIVISION_MINS} minutes (with peaks)',\n",
    "])\n",
    "\n",
    "plt.ylim([0, MAX_TRAFFIC_PER_SUBDIVISION * 1.25])\n",
    "\n",
    "plt.xticks(*time_steps)\n",
    "\n",
    "plt.grid(True, linestyle = '--')\n",
    "\n",
    "plt.show()"
   ]
  },
  {
   "cell_type": "code",
   "execution_count": null,
   "metadata": {
    "colab": {},
    "colab_type": "code",
    "id": "By8eYqrscMCz"
   },
   "outputs": [],
   "source": []
  }
 ],
 "metadata": {
  "colab": {
   "collapsed_sections": [],
   "name": "dataset.ipynb",
   "provenance": [],
   "toc_visible": true,
   "version": "0.3.2"
  },
  "kernelspec": {
   "display_name": "Python 3",
   "language": "python",
   "name": "python3"
  },
  "language_info": {
   "codemirror_mode": {
    "name": "ipython",
    "version": 3
   },
   "file_extension": ".py",
   "mimetype": "text/x-python",
   "name": "python",
   "nbconvert_exporter": "python",
   "pygments_lexer": "ipython3",
   "version": "3.6.5"
  }
 },
 "nbformat": 4,
 "nbformat_minor": 1
}
